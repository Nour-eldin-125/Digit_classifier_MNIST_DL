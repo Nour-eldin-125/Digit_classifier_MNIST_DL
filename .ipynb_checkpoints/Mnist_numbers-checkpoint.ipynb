{
 "cells": [
  {
   "cell_type": "code",
   "execution_count": 50,
   "id": "fb80f70e",
   "metadata": {},
   "outputs": [],
   "source": [
    "import tensorflow as tf\n",
    "import matplotlib.pyplot as plt\n",
    "import numpy as np\n",
    "import cv2\n"
   ]
  },
  {
   "cell_type": "code",
   "execution_count": 2,
   "id": "f28b4ada",
   "metadata": {},
   "outputs": [],
   "source": [
    "mnist = tf.keras.datasets.mnist #28 x 28 images of hand written digits 0-9"
   ]
  },
  {
   "cell_type": "code",
   "execution_count": 3,
   "id": "6df9dc33",
   "metadata": {
    "scrolled": true
   },
   "outputs": [],
   "source": [
    "(x_train , y_train),(x_test , y_test) = mnist.load_data()"
   ]
  },
  {
   "cell_type": "markdown",
   "id": "d03e7086",
   "metadata": {},
   "source": [
    "Normalize the dataset"
   ]
  },
  {
   "cell_type": "code",
   "execution_count": 4,
   "id": "273cb654",
   "metadata": {},
   "outputs": [],
   "source": [
    "y_test = tf.keras.utils.to_categorical(y_test)\n",
    "y_train = tf.keras.utils.to_categorical(y_train)"
   ]
  },
  {
   "cell_type": "code",
   "execution_count": 8,
   "id": "f8efbc02",
   "metadata": {},
   "outputs": [
    {
     "data": {
      "text/plain": [
       "(10000, 10)"
      ]
     },
     "execution_count": 8,
     "metadata": {},
     "output_type": "execute_result"
    }
   ],
   "source": [
    "y_test.shape"
   ]
  },
  {
   "cell_type": "code",
   "execution_count": 5,
   "id": "081060e1",
   "metadata": {},
   "outputs": [],
   "source": [
    "x_train = tf.keras.utils.normalize(x_train,axis=1)\n",
    "x_test = tf.keras.utils.normalize(x_test,axis=1)"
   ]
  },
  {
   "cell_type": "code",
   "execution_count": 6,
   "id": "389c8a1a",
   "metadata": {
    "scrolled": true
   },
   "outputs": [
    {
     "data": {
      "text/plain": [
       "<matplotlib.image.AxesImage at 0x227a3e67eb0>"
      ]
     },
     "execution_count": 6,
     "metadata": {},
     "output_type": "execute_result"
    },
    {
     "data": {
      "image/png": "[encoded data removed]",
      "text/plain": [
       "<Figure size 640x480 with 1 Axes>"
      ]
     },
     "metadata": {},
     "output_type": "display_data"
    }
   ],
   "source": [
    "plt.imshow(x_train[0],cmap=plt.cm.binary)"
   ]
  },
  {
   "cell_type": "code",
   "execution_count": 106,
   "id": "f65fe794",
   "metadata": {},
   "outputs": [
    {
     "name": "stdout",
     "output_type": "stream",
     "text": [
      "Epoch 1/10\n",
      "1875/1875 [==============================] - 13s 6ms/step - loss: 0.2151 - accuracy: 0.9367\n",
      "Epoch 2/10\n",
      "1875/1875 [==============================] - 12s 6ms/step - loss: 0.0855 - accuracy: 0.9735\n",
      "Epoch 3/10\n",
      "1875/1875 [==============================] - 12s 6ms/step - loss: 0.0563 - accuracy: 0.9819\n",
      "Epoch 4/10\n",
      "1875/1875 [==============================] - 12s 6ms/step - loss: 0.0383 - accuracy: 0.9876\n",
      "Epoch 5/10\n",
      "1875/1875 [==============================] - 12s 6ms/step - loss: 0.0308 - accuracy: 0.9894\n",
      "Epoch 6/10\n",
      "1875/1875 [==============================] - 12s 6ms/step - loss: 0.0235 - accuracy: 0.9923\n",
      "Epoch 7/10\n",
      "1875/1875 [==============================] - 13s 7ms/step - loss: 0.0188 - accuracy: 0.9936\n",
      "Epoch 8/10\n",
      "1875/1875 [==============================] - 14s 7ms/step - loss: 0.0160 - accuracy: 0.9943\n",
      "Epoch 9/10\n",
      "1875/1875 [==============================] - 14s 7ms/step - loss: 0.0133 - accuracy: 0.9957\n",
      "Epoch 10/10\n",
      "1875/1875 [==============================] - 13s 7ms/step - loss: 0.0132 - accuracy: 0.9957\n"
     ]
    },
    {
     "data": {
      "text/plain": [
       "<keras.callbacks.History at 0x227d67f8220>"
      ]
     },
     "execution_count": 106,
     "metadata": {},
     "output_type": "execute_result"
    }
   ],
   "source": [
    "model_ANN = tf.keras.models.Sequential()\n",
    "\n",
    "model_ANN.add(tf.keras.layers.Flatten())\n",
    "\n",
    "# model_ANN.add(tf.keras.layers.Dense(128,activation=tf.nn.relu))\n",
    "# model_ANN.add(tf.keras.layers.Dense(60,activation=tf.nn.relu))\n",
    "# model_ANN.add(tf.keras.layers.Dense(10,activation=tf.nn.softmax))\n",
    "\n",
    "\n",
    "model_ANN.add(tf.keras.layers.Dense(388,activation=tf.nn.relu))\n",
    "\n",
    "model_ANN.add(tf.keras.layers.Dense(132,activation=tf.nn.relu))\n",
    "\n",
    "model_ANN.add(tf.keras.layers.Dense(10,activation=tf.nn.softmax))\n",
    "\n",
    "model_ANN.compile(optimizer='adam',\n",
    "             loss='categorical_crossentropy',\n",
    "             metrics=['accuracy'])\n",
    "model_ANN.fit(x_train,y_train,epochs=10)"
   ]
  },
  {
   "cell_type": "code",
   "execution_count": 91,
   "id": "ac9f34dc",
   "metadata": {},
   "outputs": [
    {
     "name": "stdout",
     "output_type": "stream",
     "text": [
      "Model: \"sequential_12\"\n",
      "_________________________________________________________________\n",
      " Layer (type)                Output Shape              Param #   \n",
      "=================================================================\n",
      " flatten_12 (Flatten)        (32, 784)                 0         \n",
      "                                                                 \n",
      " dense_29 (Dense)            (32, 488)                 383080    \n",
      "                                                                 \n",
      " dense_30 (Dense)            (32, 132)                 64548     \n",
      "                                                                 \n",
      " dense_31 (Dense)            (32, 10)                  1330      \n",
      "                                                                 \n",
      "=================================================================\n",
      "Total params: 448,958\n",
      "Trainable params: 448,958\n",
      "Non-trainable params: 0\n",
      "_________________________________________________________________\n"
     ]
    }
   ],
   "source": [
    "model_ANN.summary()"
   ]
  },
  {
   "cell_type": "markdown",
   "id": "a1c84678",
   "metadata": {},
   "source": [
    "Model in CNN:"
   ]
  },
  {
   "cell_type": "code",
   "execution_count": 86,
   "id": "c6692ac4",
   "metadata": {},
   "outputs": [],
   "source": [
    "model_CNN = tf.keras.models.Sequential()\n",
    "model_CNN.add(tf.keras.layers.Conv2D(64, (3, 3), activation='relu', input_shape=(28, 28, 1)))\n",
    "model_CNN.add(tf.keras.layers.MaxPooling2D((2, 2)))\n",
    "\n",
    "model_CNN.add(tf.keras.layers.Conv2D(64, (3, 3), activation='relu'))\n",
    "model_CNN.add(tf.keras.layers.MaxPooling2D((2, 2)))\n",
    "\n",
    "model_CNN.add(tf.keras.layers.Conv2D(32, (3, 3), activation='relu'))\n",
    "\n",
    "\n",
    "model_CNN.add(tf.keras.layers.Flatten())\n",
    "\n",
    "model_CNN.add(tf.keras.layers.Dense(156, activation='relu'))          \n",
    "model_CNN.add(tf.keras.layers.Dense(84, activation='relu'))          \n",
    "model_CNN.add(tf.keras.layers.Dense(10, activation='softmax'))"
   ]
  },
  {
   "cell_type": "code",
   "execution_count": 87,
   "id": "28548c66",
   "metadata": {},
   "outputs": [],
   "source": [
    "model_CNN.compile(optimizer='adam',\n",
    "             loss='categorical_crossentropy',         #sparse_categorical_crossentropy\n",
    "             metrics=['accuracy'])"
   ]
  },
  {
   "cell_type": "code",
   "execution_count": 88,
   "id": "0865c4c9",
   "metadata": {},
   "outputs": [
    {
     "name": "stdout",
     "output_type": "stream",
     "text": [
      "Epoch 1/10\n",
      "469/469 [==============================] - 41s 84ms/step - loss: 0.2932 - accuracy: 0.9080\n",
      "Epoch 2/10\n",
      "469/469 [==============================] - 39s 83ms/step - loss: 0.0727 - accuracy: 0.9775\n",
      "Epoch 3/10\n",
      "469/469 [==============================] - 38s 82ms/step - loss: 0.0471 - accuracy: 0.9858\n",
      "Epoch 4/10\n",
      "469/469 [==============================] - 42s 89ms/step - loss: 0.0381 - accuracy: 0.9881\n",
      "Epoch 5/10\n",
      "469/469 [==============================] - 39s 84ms/step - loss: 0.0325 - accuracy: 0.9896\n",
      "Epoch 6/10\n",
      "469/469 [==============================] - 42s 90ms/step - loss: 0.0259 - accuracy: 0.9916\n",
      "Epoch 7/10\n",
      "469/469 [==============================] - 41s 88ms/step - loss: 0.0220 - accuracy: 0.9929\n",
      "Epoch 8/10\n",
      "469/469 [==============================] - 36s 78ms/step - loss: 0.0188 - accuracy: 0.9939\n",
      "Epoch 9/10\n",
      "469/469 [==============================] - 41s 87ms/step - loss: 0.0174 - accuracy: 0.9941\n",
      "Epoch 10/10\n",
      "469/469 [==============================] - 53s 112ms/step - loss: 0.0129 - accuracy: 0.9958\n"
     ]
    },
    {
     "data": {
      "text/plain": [
       "<keras.callbacks.History at 0x227c81eaf20>"
      ]
     },
     "execution_count": 88,
     "metadata": {},
     "output_type": "execute_result"
    }
   ],
   "source": [
    "model_CNN.fit(x_train, y_train,epochs=10, batch_size = 128)"
   ]
  },
  {
   "cell_type": "code",
   "execution_count": 89,
   "id": "70e6bb07",
   "metadata": {},
   "outputs": [
    {
     "name": "stdout",
     "output_type": "stream",
     "text": [
      "Model: \"sequential_11\"\n",
      "_________________________________________________________________\n",
      " Layer (type)                Output Shape              Param #   \n",
      "=================================================================\n",
      " conv2d_21 (Conv2D)          (None, 26, 26, 64)        640       \n",
      "                                                                 \n",
      " max_pooling2d_21 (MaxPoolin  (None, 13, 13, 64)       0         \n",
      " g2D)                                                            \n",
      "                                                                 \n",
      " conv2d_22 (Conv2D)          (None, 11, 11, 64)        36928     \n",
      "                                                                 \n",
      " max_pooling2d_22 (MaxPoolin  (None, 5, 5, 64)         0         \n",
      " g2D)                                                            \n",
      "                                                                 \n",
      " conv2d_23 (Conv2D)          (None, 3, 3, 32)          18464     \n",
      "                                                                 \n",
      " flatten_11 (Flatten)        (None, 288)               0         \n",
      "                                                                 \n",
      " dense_26 (Dense)            (None, 156)               45084     \n",
      "                                                                 \n",
      " dense_27 (Dense)            (None, 84)                13188     \n",
      "                                                                 \n",
      " dense_28 (Dense)            (None, 10)                850       \n",
      "                                                                 \n",
      "=================================================================\n",
      "Total params: 115,154\n",
      "Trainable params: 115,154\n",
      "Non-trainable params: 0\n",
      "_________________________________________________________________\n"
     ]
    }
   ],
   "source": [
    "model_CNN.summary()"
   ]
  },
  {
   "cell_type": "code",
   "execution_count": 107,
   "id": "2deceae5",
   "metadata": {},
   "outputs": [
    {
     "name": "stdout",
     "output_type": "stream",
     "text": [
      "313/313 [==============================] - 2s 7ms/step - loss: 0.0349 - accuracy: 0.9892\n"
     ]
    }
   ],
   "source": [
    "val_loss_Cnn,val_acc_Cnn = model_CNN.evaluate (x_test,y_test)"
   ]
  },
  {
   "cell_type": "code",
   "execution_count": 108,
   "id": "26eba64d",
   "metadata": {},
   "outputs": [
    {
     "name": "stdout",
     "output_type": "stream",
     "text": [
      "313/313 [==============================] - 1s 3ms/step - loss: 0.1116 - accuracy: 0.9783\n"
     ]
    }
   ],
   "source": [
    "val_loss_Ann, val_acc_Ann = model_ANN.evaluate(x_test,y_test)"
   ]
  },
  {
   "cell_type": "code",
   "execution_count": 109,
   "id": "70aca177",
   "metadata": {},
   "outputs": [],
   "source": [
    "# model.save('epic_model_CNN_num_detection')"
   ]
  },
  {
   "cell_type": "code",
   "execution_count": 110,
   "id": "619212c0",
   "metadata": {},
   "outputs": [],
   "source": [
    "# new_model = tf.keras.models.load_model('epic_model_num_detection')\n",
    "# new_model"
   ]
  },
  {
   "cell_type": "markdown",
   "id": "ccd8456b",
   "metadata": {},
   "source": [
    "### Prediction of the ANN model:"
   ]
  },
  {
   "cell_type": "code",
   "execution_count": 111,
   "id": "3c423983",
   "metadata": {},
   "outputs": [],
   "source": [
    "img_path = \"assets/\"         #path of the test images."
   ]
  },
  {
   "cell_type": "code",
   "execution_count": 112,
   "id": "3b9e48b6",
   "metadata": {},
   "outputs": [
    {
     "name": "stdout",
     "output_type": "stream",
     "text": [
      "WARNING:tensorflow:Layers in a Sequential model should only have a single input tensor. Received: inputs=(<tf.Tensor 'IteratorGetNext:0' shape=(None, 28, 28) dtype=float32>,). Consider rewriting this model with the Functional API.\n",
      "313/313 [==============================] - 1s 3ms/step\n"
     ]
    }
   ],
   "source": [
    "prediction = model_ANN.predict([x_test])"
   ]
  },
  {
   "cell_type": "code",
   "execution_count": 113,
   "id": "38221fa5",
   "metadata": {},
   "outputs": [
    {
     "name": "stdout",
     "output_type": "stream",
     "text": [
      "[[7.89428195e-16 2.52712955e-11 1.35986722e-10 ... 1.00000000e+00\n",
      "  3.69535267e-14 8.30333649e-11]\n",
      " [3.02248364e-23 6.06486983e-15 1.00000000e+00 ... 1.27804397e-15\n",
      "  6.92306895e-17 3.20205450e-28]\n",
      " [1.79694376e-15 9.99993443e-01 1.83667396e-07 ... 6.26364681e-06\n",
      "  6.29673336e-09 2.72386551e-14]\n",
      " ...\n",
      " [1.39762835e-17 1.43584710e-12 9.04714959e-15 ... 1.28239863e-10\n",
      "  1.98144265e-10 5.92281379e-09]\n",
      " [2.35461236e-16 1.11430945e-14 2.77077315e-16 ... 3.45099871e-13\n",
      "  2.87803198e-10 4.01455029e-18]\n",
      " [1.12354299e-12 1.20024552e-14 5.33289645e-12 ... 4.32445144e-18\n",
      "  1.87377306e-12 3.83899254e-17]]\n"
     ]
    }
   ],
   "source": [
    "print (prediction)"
   ]
  },
  {
   "cell_type": "code",
   "execution_count": 114,
   "id": "13df9e07",
   "metadata": {},
   "outputs": [
    {
     "name": "stdout",
     "output_type": "stream",
     "text": [
      "2\n"
     ]
    }
   ],
   "source": [
    "print (np.argmax(prediction[1]))"
   ]
  },
  {
   "cell_type": "code",
   "execution_count": 115,
   "id": "9138792b",
   "metadata": {},
   "outputs": [
    {
     "data": {
      "text/plain": [
       "<function matplotlib.pyplot.show(close=None, block=None)>"
      ]
     },
     "execution_count": 115,
     "metadata": {},
     "output_type": "execute_result"
    },
    {
     "data": {
      "image/png": "[encoded data removed]",
      "text/plain": [
       "<Figure size 640x480 with 1 Axes>"
      ]
     },
     "metadata": {},
     "output_type": "display_data"
    }
   ],
   "source": [
    "plt.imshow(x_test[1],cmap=plt.cm.binary)\n",
    "plt.show"
   ]
  },
  {
   "cell_type": "code",
   "execution_count": 116,
   "id": "b0d834db",
   "metadata": {
    "scrolled": true
   },
   "outputs": [
    {
     "data": {
      "image/png": "[encoded data removed]",
      "text/plain": [
       "<Figure size 1000x700 with 9 Axes>"
      ]
     },
     "metadata": {},
     "output_type": "display_data"
    }
   ],
   "source": [
    "fig = plt.figure(figsize=(10, 7))\n",
    "\n",
    "rows = 3\n",
    "columns = 3\n",
    "\n",
    "for p in range (1,10):\n",
    "    fig.add_subplot(rows, columns, (p))\n",
    "    plt.imshow(x_test[p])\n",
    "    plt.axis('off')\n",
    "    plt.title(np.argmax(prediction[p])) "
   ]
  },
  {
   "cell_type": "markdown",
   "id": "919dfbf2",
   "metadata": {},
   "source": [
    "Predection on images other than the test images:"
   ]
  },
  {
   "cell_type": "code",
   "execution_count": 117,
   "id": "bdb36f42",
   "metadata": {
    "scrolled": true
   },
   "outputs": [
    {
     "name": "stdout",
     "output_type": "stream",
     "text": [
      "WARNING:tensorflow:Layers in a Sequential model should only have a single input tensor. Received: inputs=(<tf.Tensor 'IteratorGetNext:0' shape=(None, 28, 28, 1) dtype=uint8>,). Consider rewriting this model with the Functional API.\n",
      "1/1 [==============================] - 0s 76ms/step\n",
      "2\n"
     ]
    },
    {
     "data": {
      "image/png": "[encoded data removed]",
      "text/plain": [
       "<Figure size 640x480 with 1 Axes>"
      ]
     },
     "metadata": {},
     "output_type": "display_data"
    }
   ],
   "source": [
    "p = plt.imread(img_path+\"2.jpg\")\n",
    "plt.imshow(p)\n",
    "print (np.argmax(model_ANN.predict([p.reshape(-1,28,28,1)])))"
   ]
  },
  {
   "cell_type": "code",
   "execution_count": 118,
   "id": "49e48274",
   "metadata": {},
   "outputs": [
    {
     "name": "stdout",
     "output_type": "stream",
     "text": [
      "1/1 [==============================] - 0s 26ms/step\n",
      "1/1 [==============================] - 0s 26ms/step\n",
      "1/1 [==============================] - 0s 26ms/step\n",
      "1/1 [==============================] - 0s 26ms/step\n"
     ]
    },
    {
     "data": {
      "text/plain": [
       "(-0.5, 27.5, 27.5, -0.5)"
      ]
     },
     "execution_count": 118,
     "metadata": {},
     "output_type": "execute_result"
    },
    {
     "data": {
      "image/png": "[encoded data removed]",
      "text/plain": [
       "<Figure size 1000x700 with 4 Axes>"
      ]
     },
     "metadata": {},
     "output_type": "display_data"
    }
   ],
   "source": [
    "fig = plt.figure(figsize=(10, 7))\n",
    "fig.add_subplot(2,2,1)\n",
    "p = plt.imread(img_path+\"3_v1.jpg\")\n",
    "plt.imshow(p,cmap=plt.cm.binary)\n",
    "plt.title(np.argmax(model_ANN.predict([p.reshape(-1,28,28,1)])))\n",
    "plt.axis('off')\n",
    "\n",
    "fig.add_subplot(2,2,2)\n",
    "p = plt.imread(img_path+\"4.jpg\")\n",
    "plt.imshow(p,cmap=plt.cm.binary)\n",
    "plt.title(np.argmax(model_ANN.predict([p.reshape(-1,28,28,1)])))\n",
    "plt.axis('off')\n",
    "\n",
    "fig.add_subplot(2,2,3)\n",
    "p = plt.imread(img_path+\"5.jpg\")\n",
    "plt.imshow(p,cmap=plt.cm.binary)\n",
    "plt.title(np.argmax(model_ANN.predict([p.reshape(-1,28,28,1)])))\n",
    "plt.axis('off')\n",
    "\n",
    "fig.add_subplot(2,2,4)\n",
    "p = plt.imread(img_path+\"9.jpg\")\n",
    "plt.imshow(p,cmap=plt.cm.binary)\n",
    "plt.title(np.argmax(model_ANN.predict([p.reshape(-1,28,28,1)])))\n",
    "plt.axis('off')\n",
    "\n"
   ]
  },
  {
   "cell_type": "markdown",
   "id": "04399ed1",
   "metadata": {},
   "source": [
    "### Prediction of the CNN model:"
   ]
  },
  {
   "cell_type": "code",
   "execution_count": 119,
   "id": "a2b378d7",
   "metadata": {
    "scrolled": true
   },
   "outputs": [
    {
     "name": "stdout",
     "output_type": "stream",
     "text": [
      "313/313 [==============================] - 2s 7ms/step\n"
     ]
    },
    {
     "data": {
      "image/png": "[encoded data removed]",
      "text/plain": [
       "<Figure size 1000x700 with 9 Axes>"
      ]
     },
     "metadata": {},
     "output_type": "display_data"
    }
   ],
   "source": [
    "fig = plt.figure(figsize=(10, 7))\n",
    "\n",
    "rows = 3\n",
    "columns = 3\n",
    "new_pred = model_CNN.predict([x_test])\n",
    "for p in range (1,10):\n",
    "    fig.add_subplot(rows, columns, (p))\n",
    "    plt.imshow(x_test[p],cmap=plt.cm.binary)\n",
    "    plt.axis('off')\n",
    "    plt.title(np.argmax(new_pred[p])) "
   ]
  },
  {
   "cell_type": "code",
   "execution_count": 120,
   "id": "60b13af8",
   "metadata": {
    "scrolled": true
   },
   "outputs": [
    {
     "name": "stdout",
     "output_type": "stream",
     "text": [
      "1/1 [==============================] - 0s 30ms/step\n"
     ]
    },
    {
     "data": {
      "text/plain": [
       "Text(0.5, 1.0, '2')"
      ]
     },
     "execution_count": 120,
     "metadata": {},
     "output_type": "execute_result"
    },
    {
     "data": {
      "image/png": "[encoded data removed]",
      "text/plain": [
       "<Figure size 600x800 with 1 Axes>"
      ]
     },
     "metadata": {},
     "output_type": "display_data"
    }
   ],
   "source": [
    "fig = plt.figure(figsize=(6,8))\n",
    "p = plt.imread(img_path+\"2.jpg\")\n",
    "plt.imshow(p,cmap=plt.cm.binary)\n",
    "# plt.axis(\"off\")\n",
    "plt.title(np.argmax(model_CNN.predict([p.reshape(-1,28,28,1)])))"
   ]
  },
  {
   "cell_type": "code",
   "execution_count": 121,
   "id": "14acbff3",
   "metadata": {},
   "outputs": [
    {
     "name": "stdout",
     "output_type": "stream",
     "text": [
      "1/1 [==============================] - 0s 28ms/step\n",
      "1/1 [==============================] - 0s 26ms/step\n",
      "1/1 [==============================] - 0s 26ms/step\n",
      "1/1 [==============================] - 0s 26ms/step\n"
     ]
    },
    {
     "data": {
      "text/plain": [
       "(-0.5, 27.5, 27.5, -0.5)"
      ]
     },
     "execution_count": 121,
     "metadata": {},
     "output_type": "execute_result"
    },
    {
     "data": {
      "image/png": "[encoded data removed]",
      "text/plain": [
       "<Figure size 1000x700 with 4 Axes>"
      ]
     },
     "metadata": {},
     "output_type": "display_data"
    }
   ],
   "source": [
    "fig = plt.figure(figsize=(10, 7))\n",
    "fig.add_subplot(2,2,1)\n",
    "p = plt.imread(img_path+\"3_v1.jpg\")\n",
    "plt.imshow(p)\n",
    "plt.title(np.argmax(model_CNN.predict([p.reshape(-1,28,28,1)])))\n",
    "plt.axis('off')\n",
    "\n",
    "fig.add_subplot(2,2,2)\n",
    "p = plt.imread(img_path+\"4.jpg\")\n",
    "plt.imshow(p)\n",
    "plt.title(np.argmax(model_CNN.predict([p.reshape(-1,28,28,1)])))\n",
    "plt.axis('off')\n",
    "\n",
    "fig.add_subplot(2,2,3)\n",
    "p = plt.imread(img_path+\"5.jpg\")\n",
    "plt.imshow(p)\n",
    "plt.title(np.argmax(model_CNN.predict([p.reshape(-1,28,28,1)])))\n",
    "plt.axis('off')\n",
    "\n",
    "fig.add_subplot(2,2,4)\n",
    "p = plt.imread(img_path+\"9.jpg\")\n",
    "plt.imshow(p)\n",
    "plt.title(np.argmax(model_CNN.predict([p.reshape(-1,28,28,1)])))\n",
    "plt.axis('off')\n"
   ]
  }
 ],
 "metadata": {
  "kernelspec": {
   "display_name": "Python 3 (ipykernel)",
   "language": "python",
   "name": "python3"
  },
  "language_info": {
   "codemirror_mode": {
    "name": "ipython",
    "version": 3
   },
   "file_extension": ".py",
   "mimetype": "text/x-python",
   "name": "python",
   "nbconvert_exporter": "python",
   "pygments_lexer": "ipython3",
   "version": "3.10.9"
  }
 },
 "nbformat": 4,
 "nbformat_minor": 5
}
