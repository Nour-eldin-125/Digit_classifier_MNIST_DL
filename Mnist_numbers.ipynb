{
 "cells": [
  {
   "cell_type": "code",
   "execution_count": 1,
   "id": "fb80f70e",
   "metadata": {},
   "outputs": [],
   "source": [
    "import tensorflow as tf\n",
    "import matplotlib.pyplot as plt\n",
    "import numpy as np\n"
   ]
  },
  {
   "cell_type": "code",
   "execution_count": 2,
   "id": "f28b4ada",
   "metadata": {},
   "outputs": [],
   "source": [
    "mnist = tf.keras.datasets.mnist #28 x 28 images of hand written digits 0-9"
   ]
  },
  {
   "cell_type": "code",
   "execution_count": 3,
   "id": "6df9dc33",
   "metadata": {
    "scrolled": true
   },
   "outputs": [],
   "source": [
    "(x_train , y_train),(x_test , y_test) = mnist.load_data()\n"
   ]
  },
  {
   "cell_type": "markdown",
   "id": "d03e7086",
   "metadata": {},
   "source": [
    "Normalize the dataset"
   ]
  },
  {
   "cell_type": "code",
   "execution_count": 4,
   "id": "081060e1",
   "metadata": {},
   "outputs": [],
   "source": [
    "x_train = tf.keras.utils.normalize(x_train,axis=1)\n",
    "x_test = tf.keras.utils.normalize(x_test,axis=1)"
   ]
  },
  {
   "cell_type": "code",
   "execution_count": 5,
   "id": "389c8a1a",
   "metadata": {},
   "outputs": [
    {
     "data": {
      "text/plain": [
       "<matplotlib.image.AxesImage at 0x1a57ee61060>"
      ]
     },
     "execution_count": 5,
     "metadata": {},
     "output_type": "execute_result"
    },
    {
     "data": {
      "image/png": "[encoded data removed]",
      "text/plain": [
       "<Figure size 640x480 with 1 Axes>"
      ]
     },
     "metadata": {},
     "output_type": "display_data"
    }
   ],
   "source": [
    "plt.imshow(x_train[0],cmap=plt.cm.binary)"
   ]
  },
  {
   "cell_type": "code",
   "execution_count": 6,
   "id": "f65fe794",
   "metadata": {},
   "outputs": [
    {
     "name": "stdout",
     "output_type": "stream",
     "text": [
      "Epoch 1/4\n",
      "1875/1875 [==============================] - 10s 5ms/step - loss: 0.2607 - accuracy: 0.9229\n",
      "Epoch 2/4\n",
      "1875/1875 [==============================] - 8s 4ms/step - loss: 0.1065 - accuracy: 0.9679\n",
      "Epoch 3/4\n",
      "1875/1875 [==============================] - 9s 5ms/step - loss: 0.0730 - accuracy: 0.9772\n",
      "Epoch 4/4\n",
      "1875/1875 [==============================] - 7s 4ms/step - loss: 0.0538 - accuracy: 0.9827\n"
     ]
    },
    {
     "data": {
      "text/plain": [
       "<keras.callbacks.History at 0x1d853f61ea0>"
      ]
     },
     "execution_count": 6,
     "metadata": {},
     "output_type": "execute_result"
    }
   ],
   "source": [
    "model = tf.keras.models.Sequential()\n",
    "model.add(tf.keras.layers.Flatten())\n",
    "model.add(tf.keras.layers.Dense(128,activation=tf.nn.relu))\n",
    "model.add(tf.keras.layers.Dense(128,activation=tf.nn.relu))\n",
    "model.add(tf.keras.layers.Dense(10,activation=tf.nn.softmax))\n",
    "\n",
    "model.compile(optimizer='adam',\n",
    "             loss='sparse_categorical_crossentropy',\n",
    "             metrics=['accuracy'])\n",
    "model.fit(x_train,y_train,epochs=4)"
   ]
  },
  {
   "cell_type": "markdown",
   "id": "a1c84678",
   "metadata": {},
   "source": [
    "Model in CNN:"
   ]
  },
  {
   "cell_type": "code",
   "execution_count": 6,
   "id": "c6692ac4",
   "metadata": {},
   "outputs": [
    {
     "name": "stdout",
     "output_type": "stream",
     "text": [
      "Epoch 1/4\n",
      "1875/1875 [==============================] - 51s 26ms/step - loss: 0.1448 - accuracy: 0.9542\n",
      "Epoch 2/4\n",
      "1875/1875 [==============================] - 48s 26ms/step - loss: 0.0460 - accuracy: 0.9854\n",
      "Epoch 3/4\n",
      "1875/1875 [==============================] - 48s 26ms/step - loss: 0.0315 - accuracy: 0.9901\n",
      "Epoch 4/4\n",
      "1875/1875 [==============================] - 48s 26ms/step - loss: 0.0238 - accuracy: 0.9927\n"
     ]
    },
    {
     "data": {
      "text/plain": [
       "<keras.callbacks.History at 0x1a50020b160>"
      ]
     },
     "execution_count": 6,
     "metadata": {},
     "output_type": "execute_result"
    }
   ],
   "source": [
    "model = tf.keras.models.Sequential()\n",
    "model.add(tf.keras.layers.Conv2D(32, (3, 3), activation='relu', input_shape=(28, 28, 1)))\n",
    "model.add(tf.keras.layers.MaxPooling2D((2, 2)))\n",
    "model.add(tf.keras.layers.Conv2D(64, (3, 3), activation='relu'))\n",
    "model.add(tf.keras.layers.Conv2D(64, (3, 3), activation='relu'))\n",
    "model.add(tf.keras.layers.MaxPooling2D((2, 2)))\n",
    "model.add(tf.keras.layers.Flatten())\n",
    "model.add(tf.keras.layers.Dense(100, activation='relu'))          # kernel_initializer='he_uniform'\n",
    "model.add(tf.keras.layers.Dense(10, activation='softmax'))\n",
    "\n",
    "model.compile(optimizer='adam',\n",
    "             loss='sparse_categorical_crossentropy',\n",
    "             metrics=['accuracy'])\n",
    "model.fit(x_train,y_train,epochs=4)"
   ]
  },
  {
   "cell_type": "code",
   "execution_count": 7,
   "id": "26eba64d",
   "metadata": {},
   "outputs": [
    {
     "name": "stdout",
     "output_type": "stream",
     "text": [
      "313/313 [==============================] - 4s 11ms/step - loss: 0.0282 - accuracy: 0.9913\n"
     ]
    }
   ],
   "source": [
    "val_loss, val_acc = model.evaluate(x_test,y_test)"
   ]
  },
  {
   "cell_type": "code",
   "execution_count": 108,
   "id": "70aca177",
   "metadata": {},
   "outputs": [
    {
     "name": "stderr",
     "output_type": "stream",
     "text": [
      "WARNING:absl:Found untraced functions such as _jit_compiled_convolution_op, _jit_compiled_convolution_op, _jit_compiled_convolution_op, _update_step_xla while saving (showing 4 of 4). These functions will not be directly callable after loading.\n"
     ]
    },
    {
     "name": "stdout",
     "output_type": "stream",
     "text": [
      "INFO:tensorflow:Assets written to: epic_model_CNN_num_detection\\assets\n"
     ]
    },
    {
     "name": "stderr",
     "output_type": "stream",
     "text": [
      "INFO:tensorflow:Assets written to: epic_model_CNN_num_detection\\assets\n"
     ]
    }
   ],
   "source": [
    "# model.save('epic_model_CNN_num_detection')"
   ]
  },
  {
   "cell_type": "code",
   "execution_count": 18,
   "id": "619212c0",
   "metadata": {},
   "outputs": [
    {
     "data": {
      "text/plain": [
       "<keras.engine.sequential.Sequential at 0x1a5025d2830>"
      ]
     },
     "execution_count": 18,
     "metadata": {},
     "output_type": "execute_result"
    }
   ],
   "source": [
    "new_model = tf.keras.models.load_model('epic_model_num_detection')\n",
    "new_model"
   ]
  },
  {
   "cell_type": "code",
   "execution_count": 9,
   "id": "3b9e48b6",
   "metadata": {},
   "outputs": [
    {
     "name": "stdout",
     "output_type": "stream",
     "text": [
      "313/313 [==============================] - 4s 10ms/step\n"
     ]
    }
   ],
   "source": [
    "prediction = model.predict([x_test])"
   ]
  },
  {
   "cell_type": "code",
   "execution_count": 10,
   "id": "38221fa5",
   "metadata": {},
   "outputs": [
    {
     "name": "stdout",
     "output_type": "stream",
     "text": [
      "[[1.4426672e-09 3.0044306e-10 6.1819128e-06 ... 9.9998975e-01\n",
      "  1.2058817e-08 6.5588301e-07]\n",
      " [1.5140492e-05 3.4440858e-05 9.9993527e-01 ... 6.5646150e-06\n",
      "  1.2509171e-06 7.5671828e-08]\n",
      " [5.3394383e-06 9.9970657e-01 9.8086921e-06 ... 1.3664250e-04\n",
      "  3.7366350e-05 1.7723954e-05]\n",
      " ...\n",
      " [3.2385644e-12 2.1218415e-08 5.7356220e-11 ... 8.0889066e-08\n",
      "  7.7994834e-08 3.1412068e-08]\n",
      " [2.8171536e-12 6.9069282e-14 2.7841893e-12 ... 8.9474712e-11\n",
      "  7.8658724e-07 4.4578456e-12]\n",
      " [2.4430665e-06 1.5470488e-07 8.0089478e-08 ... 6.2351706e-09\n",
      "  2.5091656e-06 2.1420783e-08]]\n"
     ]
    }
   ],
   "source": [
    "print (prediction)"
   ]
  },
  {
   "cell_type": "code",
   "execution_count": 11,
   "id": "13df9e07",
   "metadata": {},
   "outputs": [
    {
     "name": "stdout",
     "output_type": "stream",
     "text": [
      "2\n"
     ]
    }
   ],
   "source": [
    "print (np.argmax(prediction[1]))"
   ]
  },
  {
   "cell_type": "code",
   "execution_count": 12,
   "id": "9138792b",
   "metadata": {},
   "outputs": [
    {
     "data": {
      "text/plain": [
       "<function matplotlib.pyplot.show(close=None, block=None)>"
      ]
     },
     "execution_count": 12,
     "metadata": {},
     "output_type": "execute_result"
    },
    {
     "data": {
      "image/png": "[encoded data removed]",
      "text/plain": [
       "<Figure size 640x480 with 1 Axes>"
      ]
     },
     "metadata": {},
     "output_type": "display_data"
    }
   ],
   "source": [
    "plt.imshow(x_test[1],cmap=plt.cm.binary)\n",
    "plt.show"
   ]
  },
  {
   "cell_type": "code",
   "execution_count": 14,
   "id": "b0d834db",
   "metadata": {
    "scrolled": true
   },
   "outputs": [
    {
     "data": {
      "image/png": "[encoded data removed]",
      "text/plain": [
       "<Figure size 1000x700 with 9 Axes>"
      ]
     },
     "metadata": {},
     "output_type": "display_data"
    }
   ],
   "source": [
    "fig = plt.figure(figsize=(10, 7))\n",
    "\n",
    "rows = 3\n",
    "columns = 3\n",
    "\n",
    "for p in range (1,10):\n",
    "    fig.add_subplot(rows, columns, (p))\n",
    "    plt.imshow(x_test[p])\n",
    "    plt.axis('off')\n",
    "    plt.title(np.argmax(prediction[p])) "
   ]
  },
  {
   "cell_type": "code",
   "execution_count": 20,
   "id": "fbd16c38",
   "metadata": {},
   "outputs": [
    {
     "name": "stdout",
     "output_type": "stream",
     "text": [
      "313/313 [==============================] - 1s 4ms/step\n"
     ]
    },
    {
     "data": {
      "image/png": "[encoded data removed]",
      "text/plain": [
       "<Figure size 1000x700 with 9 Axes>"
      ]
     },
     "metadata": {},
     "output_type": "display_data"
    }
   ],
   "source": [
    "fig = plt.figure(figsize=(10, 7))\n",
    "\n",
    "rows = 3\n",
    "columns = 3\n",
    "new_pred = new_model.predict([x_test])\n",
    "for p in range (1,10):\n",
    "    fig.add_subplot(rows, columns, (p))\n",
    "    plt.imshow(x_test[p])\n",
    "    plt.axis('off')\n",
    "    plt.title(np.argmax(new_pred[p])) "
   ]
  },
  {
   "cell_type": "code",
   "execution_count": 22,
   "id": "1284687c",
   "metadata": {},
   "outputs": [],
   "source": [
    "img_path = \"number-test-imgs/\"           #path of the test images."
   ]
  },
  {
   "cell_type": "code",
   "execution_count": 23,
   "id": "bdb36f42",
   "metadata": {},
   "outputs": [
    {
     "name": "stdout",
     "output_type": "stream",
     "text": [
      "1/1 [==============================] - 0s 356ms/step\n",
      "2\n"
     ]
    },
    {
     "data": {
      "image/png": "[encoded data removed]",
      "text/plain": [
       "<Figure size 640x480 with 1 Axes>"
      ]
     },
     "metadata": {},
     "output_type": "display_data"
    }
   ],
   "source": [
    "p = plt.imread(img_path+\"2.jpg\")\n",
    "plt.imshow(p)\n",
    "print (np.argmax(model.predict([p.reshape(-1,28,28,1)])))"
   ]
  },
  {
   "cell_type": "code",
   "execution_count": 24,
   "id": "b4153176",
   "metadata": {},
   "outputs": [
    {
     "name": "stdout",
     "output_type": "stream",
     "text": [
      "1/1 [==============================] - 0s 318ms/step\n",
      "2\n"
     ]
    },
    {
     "data": {
      "image/png": "[encoded data removed]",
      "text/plain": [
       "<Figure size 640x480 with 1 Axes>"
      ]
     },
     "metadata": {},
     "output_type": "display_data"
    }
   ],
   "source": [
    "p = plt.imread(img_path+\"2.jpg\")\n",
    "plt.imshow(p)\n",
    "print (np.argmax(new_model.predict([p.reshape(-1,28,28,1)])))"
   ]
  },
  {
   "cell_type": "code",
   "execution_count": 25,
   "id": "49e48274",
   "metadata": {},
   "outputs": [
    {
     "name": "stdout",
     "output_type": "stream",
     "text": [
      "1/1 [==============================] - 0s 255ms/step\n",
      "1/1 [==============================] - 0s 262ms/step\n",
      "1/1 [==============================] - 0s 240ms/step\n",
      "1/1 [==============================] - 0s 248ms/step\n"
     ]
    },
    {
     "data": {
      "text/plain": [
       "(-0.5, 27.5, 27.5, -0.5)"
      ]
     },
     "execution_count": 25,
     "metadata": {},
     "output_type": "execute_result"
    },
    {
     "data": {
      "image/png": "[encoded data removed]",
      "text/plain": [
       "<Figure size 1000x700 with 4 Axes>"
      ]
     },
     "metadata": {},
     "output_type": "display_data"
    }
   ],
   "source": [
    "fig = plt.figure(figsize=(10, 7))\n",
    "fig.add_subplot(2,2,1)\n",
    "p = plt.imread(img_path+\"#.jpg\")\n",
    "plt.imshow(p)\n",
    "plt.title(np.argmax(model.predict([p.reshape(-1,28,28,1)])))\n",
    "plt.axis('off')\n",
    "\n",
    "fig.add_subplot(2,2,2)\n",
    "p = plt.imread(img_path+\"4.jpg\")\n",
    "plt.imshow(p)\n",
    "plt.title(np.argmax(model.predict([p.reshape(-1,28,28,1)])))\n",
    "plt.axis('off')\n",
    "\n",
    "fig.add_subplot(2,2,3)\n",
    "p = plt.imread(img_path+\"5.jpg\")\n",
    "plt.imshow(p)\n",
    "plt.title(np.argmax(model.predict([p.reshape(-1,28,28,1)])))\n",
    "plt.axis('off')\n",
    "\n",
    "fig.add_subplot(2,2,4)\n",
    "p = plt.imread(img_path+\"9.jpg\")\n",
    "plt.imshow(p)\n",
    "plt.title(np.argmax(model.predict([p.reshape(-1,28,28,1)])))\n",
    "plt.axis('off')\n",
    "\n"
   ]
  },
  {
   "cell_type": "code",
   "execution_count": 26,
   "id": "fb745404",
   "metadata": {},
   "outputs": [
    {
     "name": "stdout",
     "output_type": "stream",
     "text": [
      "1/1 [==============================] - 0s 289ms/step\n",
      "1/1 [==============================] - 0s 265ms/step\n",
      "1/1 [==============================] - 0s 299ms/step\n",
      "1/1 [==============================] - 0s 254ms/step\n"
     ]
    },
    {
     "data": {
      "text/plain": [
       "(-0.5, 27.5, 27.5, -0.5)"
      ]
     },
     "execution_count": 26,
     "metadata": {},
     "output_type": "execute_result"
    },
    {
     "data": {
      "image/png": "[encoded data removed]",
      "text/plain": [
       "<Figure size 1000x700 with 4 Axes>"
      ]
     },
     "metadata": {},
     "output_type": "display_data"
    }
   ],
   "source": [
    "fig = plt.figure(figsize=(10, 7))\n",
    "fig.add_subplot(2,2,1)\n",
    "p = plt.imread(img_path+\"#.jpg\")\n",
    "plt.imshow(p)\n",
    "plt.title(np.argmax(new_model.predict([p.reshape(-1,28,28,1)])))\n",
    "plt.axis('off')\n",
    "\n",
    "fig.add_subplot(2,2,2)\n",
    "p = plt.imread(img_path+\"4.jpg\")\n",
    "plt.imshow(p)\n",
    "plt.title(np.argmax(new_model.predict([p.reshape(-1,28,28,1)])))\n",
    "plt.axis('off')\n",
    "\n",
    "fig.add_subplot(2,2,3)\n",
    "p = plt.imread(img_path+\"5.jpg\")\n",
    "plt.imshow(p)\n",
    "plt.title(np.argmax(new_model.predict([p.reshape(-1,28,28,1)])))\n",
    "plt.axis('off')\n",
    "\n",
    "fig.add_subplot(2,2,4)\n",
    "p = plt.imread(img_path+\"9.jpg\")\n",
    "plt.imshow(p)\n",
    "plt.title(np.argmax(new_model.predict([p.reshape(-1,28,28,1)])))\n",
    "plt.axis('off')\n"
   ]
  }
 ],
 "metadata": {
  "kernelspec": {
   "display_name": "Python 3 (ipykernel)",
   "language": "python",
   "name": "python3"
  },
  "language_info": {
   "codemirror_mode": {
    "name": "ipython",
    "version": 3
   },
   "file_extension": ".py",
   "mimetype": "text/x-python",
   "name": "python",
   "nbconvert_exporter": "python",
   "pygments_lexer": "ipython3",
   "version": "3.10.9"
  }
 },
 "nbformat": 4,
 "nbformat_minor": 5
}
